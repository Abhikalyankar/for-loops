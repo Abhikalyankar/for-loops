{
 "cells": [
  {
   "cell_type": "markdown",
   "id": "1f47ea9d-21c5-4b47-b1fb-1c5276ac4334",
   "metadata": {},
   "source": [
    "### Write a Python program to print the numbers from 1 to 10 using a `for` loop."
   ]
  },
  {
   "cell_type": "code",
   "execution_count": 44,
   "id": "144fa5c5-0128-42d6-ac7a-a6dbd21fd558",
   "metadata": {},
   "outputs": [
    {
     "name": "stdout",
     "output_type": "stream",
     "text": [
      "1\n",
      "2\n",
      "3\n",
      "4\n",
      "5\n",
      "6\n",
      "7\n",
      "8\n",
      "9\n",
      "10\n"
     ]
    }
   ],
   "source": [
    "# Using a for loop to print numbers from 1 to 10\n",
    "for number in range(1, 11):\n",
    "    print(number)\n"
   ]
  },
  {
   "cell_type": "markdown",
   "id": "e0d94f3b-25a4-446c-97aa-6080217a502e",
   "metadata": {},
   "source": [
    "### Create a program that calculates the sum of all numbers in a list using a `for` loop."
   ]
  },
  {
   "cell_type": "code",
   "execution_count": 42,
   "id": "5436b6c6-61e3-4dad-bf81-5d1829f1c97d",
   "metadata": {},
   "outputs": [
    {
     "name": "stdout",
     "output_type": "stream",
     "text": [
      "The sum of numbers in the list is: 15\n"
     ]
    }
   ],
   "source": [
    "def calculate_sum(numbers):\n",
    "    total = 0\n",
    "    for num in numbers:\n",
    "        total += num\n",
    "    return total\n",
    "\n",
    "# Example list of numbers\n",
    "numbers = [1, 2, 3, 4, 5]\n",
    "\n",
    "# Calculate the sum of numbers in the list\n",
    "sum_of_numbers = calculate_sum(numbers)\n",
    "\n",
    "print(f\"The sum of numbers in the list is: {sum_of_numbers}\")\n"
   ]
  },
  {
   "cell_type": "markdown",
   "id": "771b45e5-8f9d-40b8-ae7f-3a29ad6eac08",
   "metadata": {},
   "source": [
    "### Write a program to print the characters of a string in reverse order using a `for` loop."
   ]
  },
  {
   "cell_type": "code",
   "execution_count": 41,
   "id": "4c8f61f1-3037-4225-b460-9f368e689671",
   "metadata": {},
   "outputs": [
    {
     "name": "stdout",
     "output_type": "stream",
     "text": [
      "Original string: Hello, world!\n",
      "Reversed string: !dlrow ,olleH\n"
     ]
    }
   ],
   "source": [
    "def reverse_string(string):\n",
    "    reversed_string = \"\"\n",
    "    for char in string[::-1]:\n",
    "        reversed_string += char\n",
    "    return reversed_string\n",
    "\n",
    "# Example string\n",
    "input_string = \"Hello, world!\"\n",
    "\n",
    "# Print characters of the string in reverse order\n",
    "reversed_string = reverse_string(input_string)\n",
    "print(\"Original string:\", input_string)\n",
    "print(\"Reversed string:\", reversed_string)\n"
   ]
  },
  {
   "cell_type": "markdown",
   "id": "fb23ad2b-22e9-4c72-9260-3cf7033ab21e",
   "metadata": {},
   "source": [
    "### Develop a program that finds the factorial of a given number using a `for` loop."
   ]
  },
  {
   "cell_type": "code",
   "execution_count": 40,
   "id": "c5d91bbe-c81b-48a4-9c04-5f4f34cab955",
   "metadata": {},
   "outputs": [
    {
     "name": "stdout",
     "output_type": "stream",
     "text": [
      "The factorial of 5 is 120\n"
     ]
    }
   ],
   "source": [
    "def factorial(n):\n",
    "    if n < 0:\n",
    "        return None  # Factorial is not defined for negative numbers\n",
    "    if n == 0:\n",
    "        return 1  # Factorial of 0 is 1\n",
    "    result = 1\n",
    "    for i in range(1, n + 1):\n",
    "        result *= i\n",
    "    return result\n",
    "\n",
    "# Example usage\n",
    "number = 5\n",
    "factorial_of_number = factorial(number)\n",
    "print(f\"The factorial of {number} is {factorial_of_number}\")\n"
   ]
  },
  {
   "cell_type": "code",
   "execution_count": null,
   "id": "db60a8bc-39ef-491a-a44e-a34198fdc3a8",
   "metadata": {},
   "outputs": [],
   "source": []
  },
  {
   "cell_type": "code",
   "execution_count": null,
   "id": "25aa2c95-5483-4e1b-b184-cc7a71bd0f74",
   "metadata": {},
   "outputs": [],
   "source": []
  },
  {
   "cell_type": "markdown",
   "id": "5cc51b1d-01c1-46d2-83f8-ad9425c6d97a",
   "metadata": {},
   "source": [
    "### Create a program to print the multiplication table of a given number using a `for` loop."
   ]
  },
  {
   "cell_type": "code",
   "execution_count": 7,
   "id": "e7bcbacf-dbfd-497c-b00c-7b1383f00843",
   "metadata": {},
   "outputs": [
    {
     "name": "stdin",
     "output_type": "stream",
     "text": [
      "Enter a number: 2\n"
     ]
    },
    {
     "name": "stdout",
     "output_type": "stream",
     "text": [
      "2 '*' 1 '=' 2\n",
      "2 '*' 2 '=' 4\n",
      "2 '*' 3 '=' 6\n",
      "2 '*' 4 '=' 8\n",
      "2 '*' 5 '=' 10\n",
      "2 '*' 6 '=' 12\n",
      "2 '*' 7 '=' 14\n",
      "2 '*' 8 '=' 16\n",
      "2 '*' 9 '=' 18\n",
      "2 '*' 10 '=' 20\n"
     ]
    }
   ],
   "source": [
    "num = int(input(\"Enter a number:\"))\n",
    "for i in range(1,11):\n",
    "    print(f\"{num} '*' {i} '=' {num*i}\")\n",
    "          "
   ]
  },
  {
   "cell_type": "code",
   "execution_count": null,
   "id": "3dc5a6ac-ee80-424b-9854-3184dfd22b0f",
   "metadata": {},
   "outputs": [],
   "source": []
  },
  {
   "cell_type": "markdown",
   "id": "19557098-863f-4266-891e-2189f296bca5",
   "metadata": {},
   "source": [
    "### 6. Write a program that counts the number of even and odd numbers in a list using a `for` loop."
   ]
  },
  {
   "cell_type": "code",
   "execution_count": 21,
   "id": "b97f4c58-bd05-441c-83eb-54b360858841",
   "metadata": {},
   "outputs": [
    {
     "name": "stdout",
     "output_type": "stream",
     "text": [
      "'even count = '5 and 5\n"
     ]
    }
   ],
   "source": [
    "list1 = [1,2,3,4,5,6,7,8,9,10]\n",
    "even_count = 0\n",
    "odd_count = 0\n",
    "for i in list1:\n",
    "    if i%2 ==0:\n",
    "        even_count+=1\n",
    "    else:\n",
    "        odd_count += 1\n",
    "print(f\"'even count = '{even_count} and {odd_count}\")\n",
    "    "
   ]
  },
  {
   "cell_type": "code",
   "execution_count": null,
   "id": "7f9d1fa7-0c0c-489a-ba13-bd700d32f968",
   "metadata": {},
   "outputs": [],
   "source": []
  },
  {
   "cell_type": "markdown",
   "id": "c7c19d43-9be2-4f9f-9aa0-729d5f993ee4",
   "metadata": {},
   "source": [
    "### 7. Develop a program that prints the squares of numbers from 1 to 5 using a `for` loop."
   ]
  },
  {
   "cell_type": "code",
   "execution_count": 31,
   "id": "e6a37c5c-7eba-4a91-84f2-563a41625d12",
   "metadata": {},
   "outputs": [
    {
     "name": "stdout",
     "output_type": "stream",
     "text": [
      "1\n",
      "4\n",
      "9\n",
      "16\n",
      "25\n"
     ]
    }
   ],
   "source": [
    "num = 5\n",
    "for x in range(1,num+1):\n",
    "    a =  x**2\n",
    "    print(a)"
   ]
  },
  {
   "cell_type": "code",
   "execution_count": null,
   "id": "cdb113f9-014f-44cf-8be1-ca903fbaf74a",
   "metadata": {},
   "outputs": [],
   "source": []
  },
  {
   "cell_type": "markdown",
   "id": "dcc202e9-9e74-4f08-b995-4c26efe8c62a",
   "metadata": {},
   "source": [
    "### 9. Write a program that calculates the average of a list of numbers using a `for` loop."
   ]
  },
  {
   "cell_type": "code",
   "execution_count": 85,
   "id": "18baa35b-64fe-4085-acc3-33798d10d6f2",
   "metadata": {},
   "outputs": [
    {
     "name": "stdout",
     "output_type": "stream",
     "text": [
      "3.5\n"
     ]
    }
   ],
   "source": [
    "list1 = [1,2,3,4,5,6]\n",
    "total = 0\n",
    "count = 0\n",
    "for i in list1:\n",
    "    total += i\n",
    "    count += 1\n",
    "\n",
    "avg = total/count\n",
    "print(avg)\n",
    "    \n",
    "      "
   ]
  },
  {
   "cell_type": "code",
   "execution_count": null,
   "id": "ddead2fd-0c25-4397-9c79-3a038639bf11",
   "metadata": {},
   "outputs": [],
   "source": []
  },
  {
   "cell_type": "markdown",
   "id": "061724cc-c7d9-4cc6-8c19-74fbd24f3c8e",
   "metadata": {},
   "source": [
    "### Develop a program that prints the first `n` Fibonacci numbers using a `for` loop."
   ]
  },
  {
   "cell_type": "code",
   "execution_count": null,
   "id": "65468307-20bc-4513-9efe-6b25b5b357b6",
   "metadata": {},
   "outputs": [],
   "source": []
  },
  {
   "cell_type": "markdown",
   "id": "e7eed9a7-7a0e-44f3-a8f2-a4eda9b945b6",
   "metadata": {},
   "source": [
    "# Intermediate Level:"
   ]
  },
  {
   "cell_type": "markdown",
   "id": "9af6650e-02cc-4831-9263-2bd833ef41f2",
   "metadata": {},
   "source": [
    "### 11. Write a program to check if a given list contains any duplicates using a `for` loop."
   ]
  },
  {
   "cell_type": "code",
   "execution_count": 46,
   "id": "03b515aa-a5d1-4544-9ee5-29c38c8c5afb",
   "metadata": {},
   "outputs": [
    {
     "ename": "TypeError",
     "evalue": "'set' object is not callable",
     "output_type": "error",
     "traceback": [
      "\u001b[0;31m---------------------------------------------------------------------------\u001b[0m",
      "\u001b[0;31mTypeError\u001b[0m                                 Traceback (most recent call last)",
      "Cell \u001b[0;32mIn[46], line 13\u001b[0m\n\u001b[1;32m     11\u001b[0m \u001b[38;5;66;03m# Example usage\u001b[39;00m\n\u001b[1;32m     12\u001b[0m my_list \u001b[38;5;241m=\u001b[39m [\u001b[38;5;241m1\u001b[39m, \u001b[38;5;241m2\u001b[39m, \u001b[38;5;241m3\u001b[39m, \u001b[38;5;241m4\u001b[39m, \u001b[38;5;241m5\u001b[39m, \u001b[38;5;241m6\u001b[39m, \u001b[38;5;241m7\u001b[39m, \u001b[38;5;241m8\u001b[39m, \u001b[38;5;241m9\u001b[39m, \u001b[38;5;241m1\u001b[39m]  \u001b[38;5;66;03m# This list contains duplicates\u001b[39;00m\n\u001b[0;32m---> 13\u001b[0m \u001b[38;5;28;43mprint\u001b[39;49m\u001b[43m(\u001b[49m\u001b[43mcontains_duplicates\u001b[49m\u001b[43m(\u001b[49m\u001b[43mmy_list\u001b[49m\u001b[43m)\u001b[49m\u001b[43m)\u001b[49m  \u001b[38;5;66;03m# Output: True\u001b[39;00m\n\u001b[1;32m     15\u001b[0m my_list \u001b[38;5;241m=\u001b[39m [\u001b[38;5;241m1\u001b[39m, \u001b[38;5;241m2\u001b[39m, \u001b[38;5;241m3\u001b[39m, \u001b[38;5;241m4\u001b[39m, \u001b[38;5;241m5\u001b[39m, \u001b[38;5;241m6\u001b[39m, \u001b[38;5;241m7\u001b[39m, \u001b[38;5;241m8\u001b[39m, \u001b[38;5;241m9\u001b[39m]  \u001b[38;5;66;03m# This list does not contain duplicates\u001b[39;00m\n\u001b[1;32m     16\u001b[0m \u001b[38;5;28mprint\u001b[39m(contains_duplicates(my_list))  \u001b[38;5;66;03m# Output: False\u001b[39;00m\n",
      "\u001b[0;31mTypeError\u001b[0m: 'set' object is not callable"
     ]
    }
   ],
   "source": [
    "def contains_duplicates(input_list):\n",
    "    seen_elements = set()\n",
    "    \n",
    "    for element in input_list:\n",
    "        if element in seen_elements:\n",
    "            return True  # Duplicate found\n",
    "        seen_elements.add(element)\n",
    "    \n",
    "    return False  # No duplicates found\n",
    "\n",
    "# Example usage\n",
    "my_list = [1, 2, 3, 4, 5, 6, 7, 8, 9, 1]  # This list contains duplicates\n",
    "print(contains_duplicates(my_list))  # Output: True\n",
    "\n",
    "my_list = [1, 2, 3, 4, 5, 6, 7, 8, 9]  # This list does not contain duplicates\n",
    "print(contains_duplicates(my_list))  # Output: False\n"
   ]
  },
  {
   "cell_type": "markdown",
   "id": "ef768b90-d7a9-4b90-aafd-85c3c3e356df",
   "metadata": {},
   "source": [
    "### Create a program that prints the prime numbers in a given range using a for loop."
   ]
  },
  {
   "cell_type": "code",
   "execution_count": 4,
   "id": "160a7069-0b22-4fed-91ce-c977dcadbad4",
   "metadata": {},
   "outputs": [
    {
     "name": "stdin",
     "output_type": "stream",
     "text": [
      "Enter the start of the range:  10\n",
      "Enter the end of the range:  20\n"
     ]
    },
    {
     "name": "stdout",
     "output_type": "stream",
     "text": [
      "Prime numbers between 10 and 20 are:\n",
      "11 13 17 19 \n"
     ]
    }
   ],
   "source": [
    "def is_prime(number):\n",
    "    # Check if the number is less than 2 (not prime)\n",
    "    if number < 2:\n",
    "        return False\n",
    "    # Check for factors from 2 to the square root of the number\n",
    "    for i in range(2, int(number**0.5) + 1):\n",
    "        if number % i == 0:\n",
    "            return False\n",
    "    return True\n",
    "\n",
    "def print_primes_in_range(start, end):\n",
    "    print(f\"Prime numbers between {start} and {end} are:\")\n",
    "    for num in range(start, end + 1):\n",
    "        if is_prime(num):\n",
    "            print(num, end=' ')\n",
    "    print()\n",
    "\n",
    "# Input: Get the range from the user\n",
    "start = int(input(\"Enter the start of the range: \"))\n",
    "end = int(input(\"Enter the end of the range: \"))\n",
    "\n",
    "# Print the prime numbers in the given range\n",
    "print_primes_in_range(start, end)\n"
   ]
  },
  {
   "cell_type": "code",
   "execution_count": null,
   "id": "a8286d03-f118-4665-a74c-a902bbdc598b",
   "metadata": {},
   "outputs": [],
   "source": []
  },
  {
   "cell_type": "markdown",
   "id": "634a9e45-73f2-426e-bb30-9354df5ba71f",
   "metadata": {},
   "source": [
    "### Develop a program that counts the number of vowels in a string using a for loop."
   ]
  },
  {
   "cell_type": "code",
   "execution_count": 64,
   "id": "b9afd1f7-7d1b-4e06-997d-224875efef22",
   "metadata": {},
   "outputs": [
    {
     "name": "stdin",
     "output_type": "stream",
     "text": [
      "Enter : abhi\n"
     ]
    },
    {
     "name": "stdout",
     "output_type": "stream",
     "text": [
      "abhi,2\n"
     ]
    }
   ],
   "source": [
    "def char_count(inp_str):\n",
    "    vowels = \"aeiou\"\n",
    "    \n",
    "    count = 0\n",
    "    \n",
    "    for i in inp_str:\n",
    "        if i in vowels:\n",
    "            count += 1\n",
    "    return count\n",
    "\n",
    "inp_str = input(\"Enter :\")\n",
    "\n",
    "vowel_c = char_count(inp_str)\n",
    "\n",
    "print(f\"{inp_str},{vowel_c}\")"
   ]
  },
  {
   "cell_type": "code",
   "execution_count": null,
   "id": "be08921c-a396-4712-9855-b751f3f874cc",
   "metadata": {},
   "outputs": [],
   "source": []
  },
  {
   "cell_type": "markdown",
   "id": "c8b772d6-a8d6-429d-bd47-aceeb55edb28",
   "metadata": {},
   "source": [
    "### Write a program to find the maximum element in a 2D list using a nested for loop."
   ]
  },
  {
   "cell_type": "code",
   "execution_count": 4,
   "id": "9b5d9dff-3d05-4f1e-a1da-8c0f006f11a9",
   "metadata": {},
   "outputs": [
    {
     "name": "stdout",
     "output_type": "stream",
     "text": [
      "9\n"
     ]
    }
   ],
   "source": [
    "def max_ele_in(matrix):\n",
    "    max_ele = float()\n",
    "    \n",
    "    for row in matrix:\n",
    "        for element in row:\n",
    "            if  element > max_ele:\n",
    "                max_ele = element\n",
    "    return element\n",
    "\n",
    "matrix = [[1,2,3],[4,5,6],[7,8,9]]\n",
    "\n",
    "max_val = max_ele_in(matrix)\n",
    "\n",
    "print(max_val)"
   ]
  },
  {
   "cell_type": "code",
   "execution_count": null,
   "id": "7d9db374-a347-48d6-8625-5e2eb20ce489",
   "metadata": {},
   "outputs": [],
   "source": []
  },
  {
   "cell_type": "markdown",
   "id": "b51fcadb-b6dd-4ac2-9e8b-f800279a1bb4",
   "metadata": {},
   "source": [
    "### Create a program that removes all occurrences of a specific element from a list using a for loop."
   ]
  },
  {
   "cell_type": "code",
   "execution_count": 7,
   "id": "87b48566-1b05-4c21-b651-16bd4c367302",
   "metadata": {},
   "outputs": [
    {
     "name": "stdout",
     "output_type": "stream",
     "text": [
      "[1, 2, 4, 5, 6]\n"
     ]
    }
   ],
   "source": [
    "def spec_ele(input_list , rem_ele):\n",
    "    new_list = []\n",
    "    \n",
    "    for element in input_list:\n",
    "        if rem_ele != element:\n",
    "            new_list.append(element)\n",
    "            \n",
    "    return new_list\n",
    "\n",
    "input_list = [1,2,3,4,5,6]\n",
    "\n",
    "rem_ele = 3\n",
    "\n",
    "new_list = spec_ele(input_list , rem_ele)\n",
    "\n",
    "print(new_list)\n",
    "            "
   ]
  },
  {
   "cell_type": "code",
   "execution_count": null,
   "id": "83e2e961-965e-4840-bfbf-faf4fad64cc0",
   "metadata": {},
   "outputs": [],
   "source": []
  },
  {
   "cell_type": "markdown",
   "id": "7d7379e6-2490-4420-93f0-a7b0d199e759",
   "metadata": {},
   "source": [
    "### Develop a program that generates a multiplication table for numbers from 1 to 5 using a nested for loop."
   ]
  },
  {
   "cell_type": "code",
   "execution_count": 29,
   "id": "ecdfc86d-bedf-41c1-a200-8be5a6fd7272",
   "metadata": {},
   "outputs": [
    {
     "name": "stdout",
     "output_type": "stream",
     "text": [
      "1\t 2\t 3\t 4\t 5\t \n",
      "2\t 4\t 6\t 8\t 10\t \n",
      "3\t 6\t 9\t 12\t 15\t \n",
      "4\t 8\t 12\t 16\t 20\t \n",
      "5\t 10\t 15\t 20\t 25\t \n"
     ]
    }
   ],
   "source": [
    "num = 5\n",
    "\n",
    "for i in range(1,num+1):\n",
    "    for j in range(1,num+1):\n",
    "        print(f\"{i*j}\\t\", end = \" \")\n",
    "    print()\n"
   ]
  },
  {
   "cell_type": "code",
   "execution_count": null,
   "id": "97e28326-3ffa-4652-a2e0-49bf1a872b38",
   "metadata": {},
   "outputs": [],
   "source": []
  },
  {
   "cell_type": "markdown",
   "id": "bbc6ffcc-15cf-41f4-a258-8916f2b39e20",
   "metadata": {},
   "source": [
    "### Write a program that converts a list of Fahrenheit temperatures to Celsius using a for loop."
   ]
  },
  {
   "cell_type": "code",
   "execution_count": 39,
   "id": "b42994f5-81fe-4469-b208-6f8a559872d5",
   "metadata": {},
   "outputs": [
    {
     "name": "stdout",
     "output_type": "stream",
     "text": [
      "[1.1111111111111112, 7.222222222222222, 19.444444444444443, 31.666666666666668, 37.22222222222222]\n"
     ]
    }
   ],
   "source": [
    "def far_temp(fahrenheit_temps):\n",
    "    cel_temp = []\n",
    "    for temp in fahrenheit_temps:\n",
    "        \n",
    "        celsius = (temp - 32) * 5/9\n",
    "        cel_temp.append(celsius)\n",
    "    return cel_temp\n",
    "\n",
    "fahrenheit_temp = [34,45,67,89,99]\n",
    "\n",
    "cel_temps = far_temp(fahrenheit_temp)\n",
    "\n",
    "print(cel_temps)"
   ]
  },
  {
   "cell_type": "code",
   "execution_count": null,
   "id": "63d1da87-d49d-4d9e-beca-459601614798",
   "metadata": {},
   "outputs": [],
   "source": []
  },
  {
   "cell_type": "markdown",
   "id": "8a3f1a84-4f9a-4fbc-a18b-0ad83619cc9d",
   "metadata": {},
   "source": [
    "### Create a program to print the common elements from two lists using a for loop."
   ]
  },
  {
   "cell_type": "code",
   "execution_count": 42,
   "id": "f56be7de-648f-4ec3-88eb-334227374bdc",
   "metadata": {},
   "outputs": [
    {
     "name": "stdout",
     "output_type": "stream",
     "text": [
      "[2, 3, 4, 5]\n"
     ]
    }
   ],
   "source": [
    "list1 = [1,2,3,4,5]\n",
    "\n",
    "list2 = [2,3,4,5,6]\n",
    "\n",
    "list3 = []\n",
    "\n",
    "for element in list1:\n",
    "    if element in list2:\n",
    "        list3.append(element)\n",
    "\n",
    "\n",
    "print(list3)"
   ]
  },
  {
   "cell_type": "code",
   "execution_count": null,
   "id": "42eb009d-74d5-49e7-89b1-7318436ff3c9",
   "metadata": {},
   "outputs": [],
   "source": []
  },
  {
   "cell_type": "markdown",
   "id": "bda33c95-2ada-4061-b874-e07d2aecee64",
   "metadata": {},
   "source": [
    "### Develop a program that prints the pattern of right-angled triangles using a for loop. Use * to draw the pattern"
   ]
  },
  {
   "cell_type": "code",
   "execution_count": 64,
   "id": "61d7c66b-d6db-4347-b25e-7d1bf7bcffd8",
   "metadata": {},
   "outputs": [
    {
     "name": "stdout",
     "output_type": "stream",
     "text": [
      "* \n",
      "* * \n",
      "* * * \n",
      "* * * * \n",
      "* * * * * \n"
     ]
    }
   ],
   "source": [
    "num = 5\n",
    "\n",
    "for i in range(1 , num+1):\n",
    "    for j in range(i):\n",
    "        print(\"*\" , end = ' ')\n",
    "    print()\n",
    "       "
   ]
  },
  {
   "cell_type": "code",
   "execution_count": null,
   "id": "afc77570-8226-4a49-b151-0a9846994299",
   "metadata": {},
   "outputs": [],
   "source": []
  },
  {
   "cell_type": "markdown",
   "id": "6543640e-7fa6-4df3-b36e-6268731aa02d",
   "metadata": {},
   "source": [
    "### Write a program to find the greatest common divisor (GCD) of two numbers using a for loop."
   ]
  },
  {
   "cell_type": "code",
   "execution_count": 6,
   "id": "8af452bc-ffb5-41e1-bf26-3bc2db1dbe10",
   "metadata": {},
   "outputs": [
    {
     "name": "stdout",
     "output_type": "stream",
     "text": [
      "The GCD of 56 and 98 is: 14\n"
     ]
    }
   ],
   "source": [
    "def find_gcd(num1, num2):\n",
    "    # Find the smaller of the two numbers\n",
    "    if num1 < num2:\n",
    "        smaller = num1\n",
    "    else:\n",
    "        smaller = num2\n",
    "\n",
    "    # Initialize gcd to 1 (the minimum possible GCD)\n",
    "    gcd = 1\n",
    "\n",
    "    # Iterate from 1 to the smaller number (inclusive)\n",
    "    for i in range(1, smaller + 1):\n",
    "        # If both num1 and num2 are divisible by i, update gcd\n",
    "        if num1 % i == 0 and num2 % i == 0:\n",
    "            gcd = i\n",
    "\n",
    "    return gcd\n",
    "\n",
    "# Example usage\n",
    "num1 = 56\n",
    "num2 = 98\n",
    "gcd = find_gcd(num1, num2)\n",
    "print(f\"The GCD of {num1} and {num2} is: {gcd}\")\n"
   ]
  },
  {
   "cell_type": "code",
   "execution_count": null,
   "id": "accbee80-59bf-42bc-b18c-3dcc7b75fe33",
   "metadata": {},
   "outputs": [],
   "source": []
  },
  {
   "cell_type": "markdown",
   "id": "54219b1e-4894-41ea-9d6c-e4ae4a989d51",
   "metadata": {},
   "source": [
    "# Advanced Level:"
   ]
  },
  {
   "cell_type": "markdown",
   "id": "4b47f08a-17c3-4bb3-84e4-b458a95079d3",
   "metadata": {},
   "source": [
    "### Create a program that calculates the sum of the digits of numbers in a list using a list comprehension."
   ]
  },
  {
   "cell_type": "code",
   "execution_count": 15,
   "id": "4219e677-596d-414e-851e-88620f359a67",
   "metadata": {},
   "outputs": [
    {
     "name": "stdout",
     "output_type": "stream",
     "text": [
      "[6, 15, 24]\n",
      "None\n"
     ]
    }
   ],
   "source": [
    "def sum_of_digits(num):\n",
    "    digits = [sum(int(i) for i in str(nums)) for nums in num]\n",
    "    print(digits)\n",
    "    \n",
    "num1 = [123,456,789]\n",
    "\n",
    "l = sum_of_digits(num1)\n",
    "\n",
    "print(l)"
   ]
  },
  {
   "cell_type": "code",
   "execution_count": null,
   "id": "16165b55-a861-43bc-84a1-1ed4db65eff7",
   "metadata": {},
   "outputs": [],
   "source": []
  },
  {
   "cell_type": "markdown",
   "id": "4e66c925-4b73-4fd6-a349-a9807e7a0b7a",
   "metadata": {},
   "source": [
    "### Write a program to find the prime factors of a given number using a for loop and list comprehension."
   ]
  },
  {
   "cell_type": "code",
   "execution_count": 18,
   "id": "e86f5df0-0883-4893-b9fd-0a1241336dab",
   "metadata": {},
   "outputs": [
    {
     "name": "stdout",
     "output_type": "stream",
     "text": [
      "Prime factors of 315: [3, 3, 5, 7]\n"
     ]
    }
   ],
   "source": [
    "def prime_factors(number):\n",
    "    factors = []\n",
    "    # Iterate over potential factors from 2 to the square root of the number\n",
    "    for i in range(2, int(number**0.5) + 1):\n",
    "        # Check if i is a factor of the number\n",
    "        while number % i == 0:\n",
    "            factors.append(i)\n",
    "            number //= i  # Divide the number by i\n",
    "    # If the remaining number is greater than 1, it is also a factor\n",
    "    if number > 1:\n",
    "        factors.append(number)\n",
    "    return factors\n",
    "\n",
    "# Example usage\n",
    "number = 315\n",
    "factors = prime_factors(number)\n",
    "print(f\"Prime factors of {number}: {factors}\")\n"
   ]
  },
  {
   "cell_type": "code",
   "execution_count": null,
   "id": "82fcb7c3-4c3b-4493-b6e9-7f0bc76a3d1b",
   "metadata": {},
   "outputs": [],
   "source": []
  },
  {
   "cell_type": "markdown",
   "id": "00d56a09-6608-43e7-86f6-bf1601b5d290",
   "metadata": {},
   "source": [
    "### Develop a program that extracts unique elements from a list and stores them in a new list using a list comprehension."
   ]
  },
  {
   "cell_type": "code",
   "execution_count": 20,
   "id": "363f090f-dfb3-4707-876d-f564055cb43a",
   "metadata": {},
   "outputs": [
    {
     "name": "stdout",
     "output_type": "stream",
     "text": [
      "unique elements: [1, 2, 3, 4]\n"
     ]
    }
   ],
   "source": [
    "def unique_ele(list1):\n",
    "    unique_elements = list(set(list1))\n",
    "    return unique_elements\n",
    "\n",
    "list1 = [1,2,3,4,1,2,3,4]\n",
    "\n",
    "unique_elements = unique_ele(list1)\n",
    "\n",
    "print(f\"unique elements: {unique_elements}\")"
   ]
  },
  {
   "cell_type": "code",
   "execution_count": null,
   "id": "70abd948-9bc7-466b-ae45-b167300cc391",
   "metadata": {},
   "outputs": [],
   "source": []
  },
  {
   "cell_type": "markdown",
   "id": "5b174c8a-9811-46ee-a6f0-3fd3ae409375",
   "metadata": {},
   "source": [
    "### Create a program that generates a list of all palindromic numbers up to a specified limit using a list comprehension."
   ]
  },
  {
   "cell_type": "code",
   "execution_count": 21,
   "id": "22a6fec3-2c5c-491d-a4af-267bdb02cfc2",
   "metadata": {},
   "outputs": [
    {
     "name": "stdout",
     "output_type": "stream",
     "text": [
      "Palindromic numbers up to 1000: [1, 2, 3, 4, 5, 6, 7, 8, 9, 11, 22, 33, 44, 55, 66, 77, 88, 99, 101, 111, 121, 131, 141, 151, 161, 171, 181, 191, 202, 212, 222, 232, 242, 252, 262, 272, 282, 292, 303, 313, 323, 333, 343, 353, 363, 373, 383, 393, 404, 414, 424, 434, 444, 454, 464, 474, 484, 494, 505, 515, 525, 535, 545, 555, 565, 575, 585, 595, 606, 616, 626, 636, 646, 656, 666, 676, 686, 696, 707, 717, 727, 737, 747, 757, 767, 777, 787, 797, 808, 818, 828, 838, 848, 858, 868, 878, 888, 898, 909, 919, 929, 939, 949, 959, 969, 979, 989, 999]\n"
     ]
    }
   ],
   "source": [
    "def is_palindrome(number):\n",
    "    # Convert the number to a string and check if it is equal to its reverse\n",
    "    return str(number) == str(number)[::-1]\n",
    "\n",
    "def palindromic_numbers(limit):\n",
    "    # Use list comprehension to generate palindromic numbers up to the limit\n",
    "    return [num for num in range(1, limit) if is_palindrome(num)]\n",
    "\n",
    "# Example usage\n",
    "limit = 1000\n",
    "palindromic_nums = palindromic_numbers(limit)\n",
    "print(f\"Palindromic numbers up to {limit}: {palindromic_nums}\")\n"
   ]
  },
  {
   "cell_type": "code",
   "execution_count": null,
   "id": "4d0d0052-c057-46d9-8c01-b818a3c4e9d8",
   "metadata": {},
   "outputs": [],
   "source": []
  },
  {
   "cell_type": "markdown",
   "id": "117b2765-13ab-48dc-9cbf-53d1cf3d6a6e",
   "metadata": {},
   "source": [
    "### Write a program to flatten a nested list using list comprehension."
   ]
  },
  {
   "cell_type": "code",
   "execution_count": 37,
   "id": "10e3f5c9-cb2b-42fb-93d5-46ca97dde9e2",
   "metadata": {},
   "outputs": [
    {
     "name": "stdout",
     "output_type": "stream",
     "text": [
      "[1, 2, 3, 4, 5, 6, 7, 8, 9]\n"
     ]
    }
   ],
   "source": [
    "nested_list = [[1,2,3],[4,5,6],[7,8,9]]\n",
    "flatten_list = list(item for sub in nested_list for item in sub)\n",
    "print(flatten_list)\n",
    "\n",
    "\n"
   ]
  },
  {
   "cell_type": "code",
   "execution_count": null,
   "id": "d9091f09-f461-40fe-bec7-8e208a6341b9",
   "metadata": {},
   "outputs": [],
   "source": []
  },
  {
   "cell_type": "markdown",
   "id": "0272a31d-edd5-4e68-a829-fd8f298bff55",
   "metadata": {},
   "source": [
    "### Develop a program that computes the sum of even and odd numbers in a list separately using list comprehension."
   ]
  },
  {
   "cell_type": "code",
   "execution_count": 47,
   "id": "4a4e3402-6877-40d6-8fb0-371f9e03034f",
   "metadata": {},
   "outputs": [
    {
     "name": "stdout",
     "output_type": "stream",
     "text": [
      "20\n",
      "25\n"
     ]
    }
   ],
   "source": [
    "list1 = [1,2,3,4,5,6,7,8,9]\n",
    "\n",
    "even = sum(num for num in list1 if num % 2 == 0)\n",
    "odd = sum(num for num in list1 if num % 2 != 0)\n",
    "\n",
    "print(even)\n",
    "print(odd)"
   ]
  },
  {
   "cell_type": "code",
   "execution_count": null,
   "id": "6ec0f5e5-4e05-47e5-8dea-5ebb41607fb2",
   "metadata": {},
   "outputs": [],
   "source": []
  },
  {
   "cell_type": "markdown",
   "id": "53860f72-173a-475f-b2e0-11ae82529192",
   "metadata": {},
   "source": [
    "### Create a program that generates a list of squares of odd numbers between 1 and 10 using list comprehension."
   ]
  },
  {
   "cell_type": "code",
   "execution_count": 54,
   "id": "895c714a-95af-4cca-9257-0fe1f5362bbe",
   "metadata": {},
   "outputs": [
    {
     "name": "stdout",
     "output_type": "stream",
     "text": [
      "25\n",
      "None\n"
     ]
    }
   ],
   "source": [
    "def odd_list(list1):\n",
    "    odd_num = sum(x for x in range(list1+1) if x % 2 == 1)\n",
    "    print(odd_num)\n",
    "    \n",
    "list1 = 10\n",
    "\n",
    "odd_n = odd_list(list1)\n",
    "\n",
    "print(odd_n)"
   ]
  },
  {
   "cell_type": "code",
   "execution_count": null,
   "id": "e1499872-9524-4a37-b00e-20c06f0a00f3",
   "metadata": {},
   "outputs": [],
   "source": []
  },
  {
   "cell_type": "markdown",
   "id": "a0f6daac-84be-4bd4-966f-9121ed828934",
   "metadata": {},
   "source": [
    "### Write a program that combines two lists into a dictionary using list comprehension."
   ]
  },
  {
   "cell_type": "code",
   "execution_count": 55,
   "id": "c54974bd-72ce-48a4-b232-0f08e0af573d",
   "metadata": {},
   "outputs": [
    {
     "name": "stdout",
     "output_type": "stream",
     "text": [
      "Combined Dictionary: {'a': 1, 'b': 2, 'c': 3}\n"
     ]
    }
   ],
   "source": [
    "keys = ['a', 'b', 'c']\n",
    "values = [1, 2, 3]\n",
    "\n",
    "# Combine the two lists into a dictionary using list comprehension\n",
    "combined_dict = {k: v for k, v in zip(keys, values)}\n",
    "\n",
    "print(\"Combined Dictionary:\", combined_dict)\n",
    " "
   ]
  },
  {
   "cell_type": "code",
   "execution_count": null,
   "id": "0a87d314-9ac3-40b5-b306-ef57f88e1ba3",
   "metadata": {},
   "outputs": [],
   "source": []
  },
  {
   "cell_type": "markdown",
   "id": "a86de9e0-d6cd-4b7f-b982-d91360efa83e",
   "metadata": {},
   "source": [
    "### Develop a program that extracts the vowels from a string and stores them in a list using list comprehension."
   ]
  },
  {
   "cell_type": "code",
   "execution_count": 60,
   "id": "36a52a20-09fd-451b-b683-61d37306be1f",
   "metadata": {},
   "outputs": [
    {
     "name": "stdout",
     "output_type": "stream",
     "text": [
      "['a', 'i', 'e']\n"
     ]
    }
   ],
   "source": [
    "string = \"abhishek\"\n",
    "\n",
    "vowels = \"aeiou\"\n",
    "\n",
    "vowels_str = [i for i in string for x in vowels if i == x]\n",
    "\n",
    "print(vowels_str)\n",
    "\n"
   ]
  },
  {
   "cell_type": "code",
   "execution_count": null,
   "id": "7542182d-8069-4293-972b-259035a3e46d",
   "metadata": {},
   "outputs": [],
   "source": []
  },
  {
   "cell_type": "markdown",
   "id": "184f8b18-0754-468a-bc8a-864f5e8a44ab",
   "metadata": {},
   "source": [
    "### Create a program that removes all non-numeric characters from a list of strings using list comprehension."
   ]
  },
  {
   "cell_type": "code",
   "execution_count": 62,
   "id": "c41e1cd6-9f20-4fc8-9a3c-835b31d5a3e6",
   "metadata": {},
   "outputs": [
    {
     "name": "stdout",
     "output_type": "stream",
     "text": [
      "Original List of Strings: ['abc123', '456def', 'ghi789', '10jkl']\n",
      "Numeric Strings Only: ['123', '456', '789', '10']\n"
     ]
    }
   ],
   "source": [
    "# List of strings with numeric and non-numeric characters\n",
    "strings = ['abc123', '456def', 'ghi789', '10jkl']\n",
    "\n",
    "# Remove non-numeric characters using list comprehension\n",
    "numeric_strings = [''.join(filter(str.isdigit, s)) for s in strings]\n",
    "\n",
    "print(\"Original List of Strings:\", strings)\n",
    "print(\"Numeric Strings Only:\", numeric_strings)\n"
   ]
  },
  {
   "cell_type": "code",
   "execution_count": null,
   "id": "1b64c640-fe27-4e24-ac0c-36b3fb1a7a7a",
   "metadata": {},
   "outputs": [],
   "source": []
  },
  {
   "cell_type": "markdown",
   "id": "9dacf562-0148-4293-86e6-44bd1827adb5",
   "metadata": {},
   "source": [
    "# Challenge Level:"
   ]
  },
  {
   "cell_type": "markdown",
   "id": "0ff0c913-ceba-4ea8-b9e1-b2591690b24d",
   "metadata": {},
   "source": [
    "### Write a program to generate a list of prime numbers using the Sieve of Eratosthenes algorithm and list comprehension."
   ]
  },
  {
   "cell_type": "code",
   "execution_count": 63,
   "id": "bba6ec35-b6b6-439a-9a5b-d3837c6c7363",
   "metadata": {},
   "outputs": [
    {
     "name": "stdout",
     "output_type": "stream",
     "text": [
      "Prime numbers up to 50 : [2, 3, 5, 7, 11, 13, 17, 19, 23, 29, 31, 37, 41, 43, 47]\n"
     ]
    }
   ],
   "source": [
    "def sieve_of_eratosthenes(n):\n",
    "    sieve = [True] * (n + 1)\n",
    "    sieve[0] = sieve[1] = False\n",
    "    for i in range(2, int(n**0.5) + 1):\n",
    "        if sieve[i]:\n",
    "            for j in range(i*i, n + 1, i):\n",
    "                sieve[j] = False\n",
    "    return [i for i in range(2, n + 1) if sieve[i]]\n",
    "\n",
    "# Example usage\n",
    "n = 50\n",
    "prime_numbers = sieve_of_eratosthenes(n)\n",
    "print(\"Prime numbers up to\", n, \":\", prime_numbers)\n"
   ]
  },
  {
   "cell_type": "code",
   "execution_count": null,
   "id": "dff5acd5-4a0a-4e57-884e-d7dd356b833a",
   "metadata": {},
   "outputs": [],
   "source": []
  },
  {
   "cell_type": "markdown",
   "id": "d9671129-9eb3-4794-8a53-b1f1e8ea6193",
   "metadata": {},
   "source": [
    "### Create a program that generates a list of all Pythagorean triplets up to a specified limit using list comprehension."
   ]
  },
  {
   "cell_type": "code",
   "execution_count": 86,
   "id": "69cc90b7-7aca-4553-bfd3-ac768164f233",
   "metadata": {},
   "outputs": [
    {
     "name": "stdin",
     "output_type": "stream",
     "text": [
      "Enter a number: 13\n"
     ]
    },
    {
     "name": "stdout",
     "output_type": "stream",
     "text": [
      "[(3, 4, 5), (5, 12, 13), (6, 8, 10)]\n"
     ]
    }
   ],
   "source": [
    "num = int(input(\"Enter a number:\"))\n",
    "triplet = [(a,b,c)\n",
    "for a in range(1, num+1)\n",
    "           for b in range(a, num+1)\n",
    "           for c in range(b, num+1)\n",
    "            if a**2 + b**2 == c**2]\n",
    "\n",
    "           \n",
    "\n",
    "print(triplet)"
   ]
  },
  {
   "cell_type": "code",
   "execution_count": null,
   "id": "775c85e0-751e-450d-8fcf-60fd98ff365b",
   "metadata": {},
   "outputs": [],
   "source": []
  },
  {
   "cell_type": "markdown",
   "id": "b427fbf2-8445-4db0-8c3b-f19ca740c8ed",
   "metadata": {},
   "source": [
    "### Develop a program that generates a list of all possible combinations of two lists using list comprehension."
   ]
  },
  {
   "cell_type": "code",
   "execution_count": 88,
   "id": "c02c435d-ec5b-4548-b34f-d7ef4afd1941",
   "metadata": {},
   "outputs": [
    {
     "name": "stdout",
     "output_type": "stream",
     "text": [
      "All possible combinations\n",
      "(1, 'a')\n",
      "(1, 'b')\n",
      "(1, 'c')\n",
      "(2, 'a')\n",
      "(2, 'b')\n",
      "(2, 'c')\n",
      "(3, 'a')\n",
      "(3, 'b')\n",
      "(3, 'c')\n"
     ]
    }
   ],
   "source": [
    "list1 = [1,2,3]\n",
    "list2 = ['a', 'b' ,'c']\n",
    "\n",
    "combinations = [(x,y) for x in list1 for y in list2]\n",
    "\n",
    "print(\"All possible combinations\")\n",
    "for combination in combinations:\n",
    "    print(combination)"
   ]
  },
  {
   "cell_type": "code",
   "execution_count": null,
   "id": "db2a4534-d783-4ecb-9e6d-3bb66cbba93a",
   "metadata": {},
   "outputs": [],
   "source": []
  },
  {
   "cell_type": "markdown",
   "id": "0df3c6c9-ab56-4f66-89e7-46e499efe55e",
   "metadata": {},
   "source": [
    "### Write a program that calculates the mean, median, and mode of a list of numbers using list comprehension."
   ]
  },
  {
   "cell_type": "code",
   "execution_count": 4,
   "id": "e93cb894-ff7a-4a77-b9d0-a5d6ac3ed538",
   "metadata": {},
   "outputs": [
    {
     "name": "stdout",
     "output_type": "stream",
     "text": [
      "Mean: 4.916666666666667\n",
      "Median: 5.0\n",
      "Mode: [5]\n"
     ]
    }
   ],
   "source": [
    "from collections import Counter\n",
    "import statistics\n",
    "\n",
    "# Sample data\n",
    "numbers = [1, 2, 3, 4, 4, 5, 5, 5, 6, 7, 8, 9]\n",
    "\n",
    "# Mean\n",
    "mean = sum(numbers) / len(numbers)\n",
    "\n",
    "# Median\n",
    "sorted_numbers = sorted(numbers)\n",
    "n = len(numbers)\n",
    "median = (sorted_numbers[n//2] + sorted_numbers[-(n+1)//2]) / 2\n",
    "\n",
    "# Mode\n",
    "mode = [k for k, v in Counter(numbers).items() if v == max(Counter(numbers).values())]\n",
    "\n",
    "print(f\"Mean: {mean}\")\n",
    "print(f\"Median: {median}\")\n",
    "print(f\"Mode: {mode}\")\n"
   ]
  },
  {
   "cell_type": "code",
   "execution_count": null,
   "id": "97bcee83-f08d-454f-b219-029ce3f71948",
   "metadata": {},
   "outputs": [],
   "source": []
  },
  {
   "cell_type": "markdown",
   "id": "2463b8bd-baac-4921-8e11-fd3f480bb2ee",
   "metadata": {},
   "source": [
    "### Create a program that generates Pascal's triangle up to a specified number of rows using list comprehension."
   ]
  },
  {
   "cell_type": "code",
   "execution_count": 5,
   "id": "784e1f82-7ae5-4684-88db-698060582d1e",
   "metadata": {},
   "outputs": [
    {
     "name": "stdout",
     "output_type": "stream",
     "text": [
      "[1]\n",
      "[1, 1]\n",
      "[1, 2, 1]\n",
      "[1, 3, 3, 1]\n",
      "[1, 4, 6, 4, 1]\n"
     ]
    }
   ],
   "source": [
    "def generate_pascals_triangle(rows):\n",
    "    triangle = [[1]]  # Initialize with the first row\n",
    "\n",
    "    for i in range(1, rows):\n",
    "        new_row = [1] + [triangle[i-1][j] + triangle[i-1][j+1] for j in range(len(triangle[i-1])-1)] + [1]\n",
    "        triangle.append(new_row)\n",
    "\n",
    "    return triangle\n",
    "\n",
    "# Specify the number of rows\n",
    "num_rows = 5\n",
    "pascals_triangle = generate_pascals_triangle(num_rows)\n",
    "\n",
    "# Print the triangle\n",
    "for row in pascals_triangle:\n",
    "    print(row)\n"
   ]
  },
  {
   "cell_type": "code",
   "execution_count": null,
   "id": "4633ebfe-75f9-4b38-8266-df312f83e246",
   "metadata": {},
   "outputs": [],
   "source": []
  },
  {
   "cell_type": "markdown",
   "id": "f3741053-08ef-4658-ad80-683943980b8c",
   "metadata": {},
   "source": [
    "### Develop a program that calculates the sum of the digits of a factorial of numbers from 1 to 5 using list comprehension."
   ]
  },
  {
   "cell_type": "code",
   "execution_count": 7,
   "id": "3369e6b5-8955-4d4f-a667-dbae01f89a66",
   "metadata": {},
   "outputs": [
    {
     "name": "stdout",
     "output_type": "stream",
     "text": [
      "Sum of the digits of 1! is 1\n",
      "Sum of the digits of 2! is 2\n",
      "Sum of the digits of 3! is 6\n",
      "Sum of the digits of 4! is 6\n",
      "Sum of the digits of 5! is 3\n"
     ]
    }
   ],
   "source": [
    "import math\n",
    "\n",
    "# Calculate the sum of the digits of the factorial for numbers from 1 to 5\n",
    "sums_of_digits = [sum(int(digit) for digit in str(math.factorial(i))) for i in range(1, 6)]\n",
    "\n",
    "# Print the results\n",
    "for i, sum_digits in enumerate(sums_of_digits, start=1):\n",
    "    print(f\"Sum of the digits of {i}! is {sum_digits}\")\n"
   ]
  },
  {
   "cell_type": "code",
   "execution_count": null,
   "id": "01a24895-8abd-4fbc-9c97-83e95f89219e",
   "metadata": {},
   "outputs": [],
   "source": []
  },
  {
   "cell_type": "markdown",
   "id": "ee7c55c8-ec28-48a9-8825-5c6515a3cee4",
   "metadata": {},
   "source": [
    "### Write a program that finds the longest word in a sentence using list comprehension."
   ]
  },
  {
   "cell_type": "code",
   "execution_count": 15,
   "id": "8e06e0ec-af0c-42f2-bdae-3ba59f55aee8",
   "metadata": {},
   "outputs": [
    {
     "name": "stdout",
     "output_type": "stream",
     "text": [
      "quick\n"
     ]
    }
   ],
   "source": [
    "def find_longest(input_sen):\n",
    "    words = sentence.split()\n",
    "    longest_word = [word for word in words if len(word) == max(len(w) for w in words)][0]\n",
    "    return longest_word\n",
    "\n",
    "sentence = \"The quick brown fox jumps over the lazy dog\"\n",
    "\n",
    "longest_word = find_longest(sentence)\n",
    "\n",
    "print(f\"{longest_word}\")"
   ]
  },
  {
   "cell_type": "code",
   "execution_count": null,
   "id": "5c63fcc1-0131-41c6-9c3e-69a351ac2cfe",
   "metadata": {},
   "outputs": [],
   "source": []
  },
  {
   "cell_type": "markdown",
   "id": "6c0c7940-7e7d-4d9a-a08f-199a6926877f",
   "metadata": {},
   "source": [
    "### Create a program that filters a list of strings to include only those with more than three vowels using list comprehension."
   ]
  },
  {
   "cell_type": "code",
   "execution_count": 26,
   "id": "f337b0e2-e2d0-4a01-870d-88d543ca2c6b",
   "metadata": {},
   "outputs": [
    {
     "name": "stdout",
     "output_type": "stream",
     "text": [
      "Strings with more than three vowels: []\n"
     ]
    }
   ],
   "source": [
    "def count_vowels(word):\n",
    "    vowels = \"aeiouAEIOU\"\n",
    "    return sum(1 for char in word if char in vowels)\n",
    "\n",
    "def filter_strings_with_vowels(strings, min_vowel_count=3):\n",
    "    return [word for word in strings if count_vowels(word) > min_vowel_count]\n",
    "\n",
    "# Example list of strings\n",
    "strings = [\"apple\", \"banana\", \"cherry\", \"date\", \"kiwi\", \"mango\", \"orange\", \"peach\"]\n",
    "\n",
    "# Filter strings with more than three vowels\n",
    "filtered_strings = filter_strings_with_vowels(strings)\n",
    "\n",
    "print(f\"Strings with more than three vowels: {filtered_strings}\")\n"
   ]
  },
  {
   "cell_type": "code",
   "execution_count": null,
   "id": "52e148ac-15ea-4b32-8f96-978dba4b65b8",
   "metadata": {},
   "outputs": [],
   "source": []
  },
  {
   "cell_type": "markdown",
   "id": "112368b4-dd58-4407-b4ad-bfc45e299869",
   "metadata": {},
   "source": [
    "### Develop a program that calculates the sum of the digits of numbers from 1 to 1000 using list comprehension."
   ]
  },
  {
   "cell_type": "code",
   "execution_count": 34,
   "id": "da595853-89fd-4bcb-8f15-85ac7558490f",
   "metadata": {},
   "outputs": [
    {
     "name": "stdout",
     "output_type": "stream",
     "text": [
      "The total sum of the digits of numbers from 1 to 1000 is 13501\n"
     ]
    }
   ],
   "source": [
    "# Calculate the sum of the digits of each number from 1 to 1000 and then sum those results\n",
    "total_sum_of_digits = sum(sum(int(digit) for digit in str(number)) for number in range(1, 1001))\n",
    "\n",
    "print(f\"The total sum of the digits of numbers from 1 to 1000 is {total_sum_of_digits}\")\n"
   ]
  },
  {
   "cell_type": "code",
   "execution_count": null,
   "id": "765403be-6ca7-4b6b-bc67-be4f249f8d77",
   "metadata": {},
   "outputs": [],
   "source": []
  },
  {
   "cell_type": "markdown",
   "id": "0ba458db-c3d1-4a38-8177-59869c946636",
   "metadata": {},
   "source": [
    "### Write a program that generates a list of prime palindromic numbers using list comprehension."
   ]
  },
  {
   "cell_type": "code",
   "execution_count": 39,
   "id": "9d609bca-7199-472b-af5a-095c5369fc40",
   "metadata": {},
   "outputs": [
    {
     "name": "stdout",
     "output_type": "stream",
     "text": [
      "Prime palindromic numbers from 1 to 1000: [2, 3, 5, 7]\n"
     ]
    }
   ],
   "source": [
    "def is_prime(n):\n",
    "    if n <= 1:\n",
    "        return False\n",
    "    if n <= 3:\n",
    "        return True\n",
    "    if n % 2 == 0 or n % 3 == 0:\n",
    "        return False\n",
    "    i = 5\n",
    "    while i * i <= n:\n",
    "        if n % i == 0 or n % (i + 2) == 0:\n",
    "            return False\n",
    "        i += 6\n",
    "    return True\n",
    "\n",
    "def is_palindrome(n):\n",
    "    return str(n) == str(n)[0]\n",
    "\n",
    "# Generate a list of prime palindromic numbers\n",
    "prime_palindromic_numbers = [n for n in range(1, 1001) if is_prime(n) and is_palindrome(n)]\n",
    "\n",
    "print(f\"Prime palindromic numbers from 1 to 1000: {prime_palindromic_numbers}\")\n"
   ]
  },
  {
   "cell_type": "code",
   "execution_count": null,
   "id": "664dcef9-5751-4254-8d16-87444f33c7e2",
   "metadata": {},
   "outputs": [],
   "source": []
  }
 ],
 "metadata": {
  "kernelspec": {
   "display_name": "Python 3 (ipykernel)",
   "language": "python",
   "name": "python3"
  },
  "language_info": {
   "codemirror_mode": {
    "name": "ipython",
    "version": 3
   },
   "file_extension": ".py",
   "mimetype": "text/x-python",
   "name": "python",
   "nbconvert_exporter": "python",
   "pygments_lexer": "ipython3",
   "version": "3.10.8"
  }
 },
 "nbformat": 4,
 "nbformat_minor": 5
}
